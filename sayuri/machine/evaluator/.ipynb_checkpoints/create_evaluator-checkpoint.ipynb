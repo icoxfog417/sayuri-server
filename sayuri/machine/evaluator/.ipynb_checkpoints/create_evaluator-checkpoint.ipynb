{
 "cells": [
  {
   "cell_type": "markdown",
   "metadata": {},
   "source": [
    "# Create Conference Consultant Sayuri"
   ]
  },
  {
   "cell_type": "markdown",
   "metadata": {},
   "source": [
    "## Steps\n",
    "\n",
    "*Make Training Data*\n",
    "\n",
    "* 会議中の画像の収集\n",
    "* 画像のデータ化\n",
    "* ラベルの付与\n",
    "\n",
    "*Make Model*\n",
    "\n",
    "* モデルに利用する特徴量の選択\n",
    "* 学習\n",
    "* 予測結果の可視化\n",
    "\n",
    "*Save the Model*\n",
    "\n",
    "* モデルの保存\n"
   ]
  },
  {
   "cell_type": "code",
   "execution_count": 1,
   "metadata": {
    "collapsed": false
   },
   "outputs": [],
   "source": [
    "# enable showing matplotlib image inline\n",
    "%matplotlib inline\n",
    "\n",
    "# autoreload module\n",
    "%load_ext autoreload\n",
    "%autoreload 2"
   ]
  },
  {
   "cell_type": "markdown",
   "metadata": {},
   "source": [
    "## Make Training Data\n",
    "\n",
    "会議の画像をGoogle等から収集し、`images`フォルダに格納します。なお、画像の拡張子は`PNG`に統一しています。\n",
    "収集した画像をRekognitionを利用し、特徴量に変換します。この役割を担うのが`make_training_data.py`です。\n",
    "変換されたデータは、`training_data.csv`として保存されます。\n",
    "\n",
    "* images_to_data: imagesフォルダ内の画像を特徴量に変換し、`training_data.csv`を作成します。\n",
    "* append_image: 画像へのパスを引数に渡すことで、その画像のデータを`training_data.csv`に追記します。\n",
    "\n",
    "ファイルが作成されたら、良い会議なのか悪い会議なのか、ラベル付を行います(良い:1、悪い:0)。ラベルは、ファイルの一番左端に設定します。\n",
    "このファイルを、`training_data_with_label.csv`として保存してください。\n"
   ]
  },
  {
   "cell_type": "markdown",
   "metadata": {},
   "source": [
    "## Make Model\n",
    "\n",
    "`training_data_with_label.csv`が作成できたら、モデルを作成していきます。当然データの中には複数の特徴量があるため、ここから有用な特徴量を見つけ出し、それをモデルに使用していきます。\n",
    "\n",
    "まずは、データをロードします。併せて正規化も行っておきます。"
   ]
  },
  {
   "cell_type": "code",
   "execution_count": 2,
   "metadata": {
    "collapsed": false
   },
   "outputs": [
    {
     "name": "stdout",
     "output_type": "stream",
     "text": [
      "['pose>pitch min', 'pose>pitch max', 'pose>pitch avg', 'pose>yaw min', 'pose>yaw max', 'pose>yaw avg', 'emotion>sad min', 'emotion>sad max', 'emotion>sad avg', 'smile min', 'smile max', 'smile avg', 'eye_closed min', 'eye_closed max', 'eye_closed avg', 'mouth_open_wide min', 'mouth_open_wide max', 'mouth_open_wide avg', 'sex min', 'sex max', 'sex avg']\n",
      "(50,)\n",
      "(50, 21)\n"
     ]
    }
   ],
   "source": [
    "from sklearn import preprocessing\n",
    "import make_model as maker\n",
    "dataset = maker.load_data()\n",
    "\n",
    "header = dataset[\"header\"][1:]  # exclude label column\n",
    "y = dataset[\"y\"]\n",
    "X = dataset[\"X\"]\n",
    "\n",
    "scaler = preprocessing.StandardScaler().fit(X)\n",
    "X_R = scaler.transform(X)\n",
    "\n",
    "print(header)\n",
    "print(y.shape)\n",
    "print(X_R.shape)"
   ]
  },
  {
   "cell_type": "markdown",
   "metadata": {},
   "source": [
    "モデルにはSVMを使用します。これで、有効な特徴量を探していきます。"
   ]
  },
  {
   "cell_type": "code",
   "execution_count": 29,
   "metadata": {
    "collapsed": false
   },
   "outputs": [
    {
     "name": "stdout",
     "output_type": "stream",
     "text": [
      "show top 10 features.\n",
      "['smile avg']\n",
      "['smile max']\n",
      "['smile min']\n",
      "['emotion>sad min']\n",
      "['sex max']\n",
      "['pose>yaw min']\n",
      "['mouth_open_wide avg']\n",
      "['eye_closed max']\n",
      "['pose>yaw max']\n",
      "['pose>pitch min']\n"
     ]
    }
   ],
   "source": [
    "from sklearn.feature_selection import SelectKBest\n",
    "from sklearn.feature_selection import f_classif\n",
    "\n",
    "select_header = lambda s: [i_h[1] for i_h in enumerate(header) if s[i_h[0]]]\n",
    "\n",
    "rank = 10\n",
    "bests = []\n",
    "\n",
    "print(\"show top {0} features.\".format(rank))\n",
    "for i in range(rank):\n",
    "    k = i + 1\n",
    "    selector = SelectKBest(f_classif, k=k).fit(X_R, y)\n",
    "    _bests = select_header(selector.get_support())\n",
    "    print([b for b in _bests if b not in bests])\n",
    "    bests = _bests\n",
    "\n",
    "# selected_X = selector.fit_transform(X_R, y)\n"
   ]
  },
  {
   "cell_type": "markdown",
   "metadata": {},
   "source": [
    "(本当はこの中から組み合わせを作成し、cross validationで精度をチェックしていく。ただ既存のモデルとの整合性のため、今回は決め打ちで`max_smile`と`min_pitch`を使用)。\n",
    "\n",
    "選択した特徴量を元にモデルを作成し、学習させます。モデルは今回SVMを使用しますが、そのパラメーターについてはGrid Searchで最適化します。\n",
    "モデルが作成できたら、`model/conf_predict.pkl`に保存しています。"
   ]
  },
  {
   "cell_type": "code",
   "execution_count": 35,
   "metadata": {
    "collapsed": false
   },
   "outputs": [
    {
     "name": "stdout",
     "output_type": "stream",
     "text": [
      "0.724 (+/-0.003) for {'kernel': 'rbf', 'C': 1, 'gamma': 0.001}\n",
      "0.724 (+/-0.003) for {'kernel': 'rbf', 'C': 1, 'gamma': 0.0001}\n",
      "0.751 (+/-0.015) for {'kernel': 'rbf', 'C': 10, 'gamma': 0.001}\n",
      "0.724 (+/-0.003) for {'kernel': 'rbf', 'C': 10, 'gamma': 0.0001}\n",
      "0.900 (+/-0.059) for {'kernel': 'rbf', 'C': 100, 'gamma': 0.001}\n",
      "0.751 (+/-0.015) for {'kernel': 'rbf', 'C': 100, 'gamma': 0.0001}\n",
      "0.900 (+/-0.059) for {'kernel': 'linear', 'C': 1}\n",
      "0.900 (+/-0.059) for {'kernel': 'linear', 'C': 10}\n",
      "0.900 (+/-0.059) for {'kernel': 'linear', 'C': 100}\n",
      "             precision    recall  f1-score   support\n",
      "\n",
      "       good       0.75      0.50      0.60         6\n",
      "        bad       0.67      0.86      0.75         7\n",
      "\n",
      "avg / total       0.71      0.69      0.68        13\n",
      "\n"
     ]
    },
    {
     "data": {
      "image/png": "[encoded data removed]",
      "text/plain": [
       "<matplotlib.figure.Figure at 0xc2011b0>"
      ]
     },
     "metadata": {},
     "output_type": "display_data"
    },
    {
     "name": "stdout",
     "output_type": "stream",
     "text": [
      "Pipeline(steps=[('scaling', StandardScaler(copy=True, with_mean=True, with_std=True)), ('estimator', SVC(C=100, cache_size=200, class_weight=None, coef0=0.0, degree=3,\n",
      "  gamma=0.001, kernel='rbf', max_iter=-1, probability=False,\n",
      "  random_state=None, shrinking=True, tol=0.001, verbose=False))])\n"
     ]
    }
   ],
   "source": [
    "import make_model as maker\n",
    "\n",
    "header_index = lambda hs: [i_h[0] for i_h in enumerate(header) if i_h[1] in hs]\n",
    "columns = header_index([\"smile max\", \"pose>pitch min\"])\n",
    "\n",
    "model = maker.make_model(y, X, columns, save_model=True)\n",
    "print(model)\n"
   ]
  },
  {
   "cell_type": "code",
   "execution_count": null,
   "metadata": {
    "collapsed": true
   },
   "outputs": [],
   "source": []
  }
 ],
 "metadata": {
  "kernelspec": {
   "display_name": "Python 3",
   "language": "python",
   "name": "python3"
  },
  "language_info": {
   "codemirror_mode": {
    "name": "ipython",
    "version": 3
   },
   "file_extension": ".py",
   "mimetype": "text/x-python",
   "name": "python",
   "nbconvert_exporter": "python",
   "pygments_lexer": "ipython3",
   "version": "3.4.3"
  }
 },
 "nbformat": 4,
 "nbformat_minor": 0
}
