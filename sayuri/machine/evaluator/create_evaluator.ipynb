{
 "cells": [
  {
   "cell_type": "markdown",
   "metadata": {},
   "source": [
    "# Create Conference Consultant Sayuri"
   ]
  },
  {
   "cell_type": "markdown",
   "metadata": {},
   "source": [
    "## Steps\n",
    "\n",
    "*Make Training Data*\n",
    "\n",
    "* 会議中の画像の収集\n",
    "* 画像のデータ化\n",
    "* ラベルの付与\n",
    "\n",
    "*Make Model*\n",
    "\n",
    "* モデルに利用する特徴量の選択\n",
    "* 学習\n",
    "* 予測結果の可視化\n",
    "\n",
    "*Save the Model*\n",
    "\n",
    "* モデルの保存\n"
   ]
  },
  {
   "cell_type": "code",
   "execution_count": 3,
   "metadata": {
    "collapsed": false
   },
   "outputs": [],
   "source": [
    "# enable showing matplotlib image inline\n",
    "%matplotlib inline\n",
    "\n",
    "# autoreload module\n",
    "%load_ext autoreload\n",
    "%autoreload 2\n",
    "\n",
    "# load local package\n",
    "import sys\n",
    "import os\n",
    "sys.path.append(os.path.join(os.getcwd(), \"../../../\"))  # load project root"
   ]
  },
  {
   "cell_type": "markdown",
   "metadata": {},
   "source": [
    "## Make Training Data\n",
    "\n",
    "会議の画像をGoogle等から収集し、`images`フォルダに格納します。なお、画像の拡張子は`PNG`に統一しています。\n",
    "収集した画像をRekognitionを利用し、特徴量に変換します。この役割を担うのが`make_training_data.py`です。\n",
    "変換されたデータは、`training_data.csv`として保存されます。\n",
    "\n",
    "* images_to_data: imagesフォルダ内の画像を特徴量に変換し、`training_data.csv`を作成します。\n",
    "* append_image: 画像へのパスを引数に渡すことで、その画像のデータを`training_data.csv`に追記します。\n",
    "\n",
    "ファイルが作成されたら、良い会議なのか悪い会議なのか、ラベル付を行います(良い:1、悪い:0)。ラベルは、ファイルの一番左端に設定します。\n",
    "このファイルを、`training_data_with_label.csv`として保存してください。\n"
   ]
  },
  {
   "cell_type": "markdown",
   "metadata": {},
   "source": [
    "## Make Model\n",
    "\n",
    "`training_data_with_label.csv`が作成できたら、モデルを作成していきます。当然データの中には複数の特徴量があるため、ここから有用な特徴量を見つけ出し、それをモデルに使用していきます。\n",
    "\n",
    "まずは、データをロードします。併せて正規化も行っておきます。"
   ]
  },
  {
   "cell_type": "code",
   "execution_count": 4,
   "metadata": {
    "collapsed": false
   },
   "outputs": [
    {
     "name": "stdout",
     "output_type": "stream",
     "text": [
      "(50,)\n",
      "(50, 21)\n",
      "['pose>pitch min', 'pose>pitch max', 'pose>pitch avg', 'pose>yaw min', 'pose>yaw max', 'pose>yaw avg', 'emotion>sad min', 'emotion>sad max', 'emotion>sad avg', 'smile min', 'smile max', 'smile avg', 'eye_closed min', 'eye_closed max', 'eye_closed avg', 'mouth_open_wide min', 'mouth_open_wide max', 'mouth_open_wide avg', 'sex min', 'sex max', 'sex avg']\n"
     ]
    }
   ],
   "source": [
    "from sklearn import preprocessing\n",
    "import make_model as maker\n",
    "dataset = maker.load_data()\n",
    "\n",
    "header = dataset[\"header\"][1:]  # exclude label column\n",
    "y = dataset[\"y\"]\n",
    "X = dataset[\"X\"]\n",
    "\n",
    "scaler = preprocessing.StandardScaler().fit(X)  # regularization\n",
    "X_R = scaler.transform(X)\n",
    "\n",
    "print(y.shape)\n",
    "print(X_R.shape)\n",
    "print(header)"
   ]
  },
  {
   "cell_type": "markdown",
   "metadata": {},
   "source": [
    "会議を分類するモデルにはSVMを使用します。これで、有効な特徴量を探していきます。"
   ]
  },
  {
   "cell_type": "code",
   "execution_count": 9,
   "metadata": {
    "collapsed": false
   },
   "outputs": [
    {
     "name": "stdout",
     "output_type": "stream",
     "text": [
      "[('smile avg', 36.027328346678679), ('smile max', 29.165915277225835), ('smile min', 7.5066262394935501), ('emotion>sad min', 6.503727553318039), ('sex max', 5.9620267714449353), ('pose>yaw min', 5.3249580323512582), ('mouth_open_wide avg', 5.0149185119613007), ('eye_closed max', 4.6827070966900699), ('pose>yaw max', 4.6103761988427729), ('pose>pitch min', 4.4763712331461303)]\n"
     ]
    }
   ],
   "source": [
    "from sklearn.feature_selection import SelectKBest\n",
    "from sklearn.feature_selection import f_classif\n",
    "\n",
    "get_headers = lambda s: [i_h[1] for i_h in enumerate(header) if s[i_h[0]]]\n",
    "\n",
    "selector = SelectKBest(f_classif, k=10).fit(X_R, y)\n",
    "\n",
    "selected = selector.get_support()\n",
    "kbests = sorted(zip(get_headers(selected), selector.scores_[selected]), key=lambda h_s: h_s[1], reverse=True)\n",
    "print(kbests)\n"
   ]
  },
  {
   "cell_type": "markdown",
   "metadata": {},
   "source": [
    "ここからいくつか特徴量を選択し、モデルを作成します。今回はデータが少ないこともあり、なるべくシンプルなモデルとし特徴量を2つに絞りたいと思います。smile系の特徴量は1つに限定しました。あと一つですが、以下検討の結果pose>pitch minを使用することにしました。\n",
    "\n",
    "* emotionは検出が安定しない\n",
    "* sexは男性/女性がいるかいないかだけで決定するのはちょっとおかしいので、除外\n",
    "* mouth_open/eye_close はその瞬間かどうかで左右されるので除外\n",
    "* pose系が残るが、この中で最も精度がよかったpose>pitch minを特徴量として採用する\n",
    "\n",
    "選択した特徴量を元にモデルを作成し、学習させます。モデルは今回SVMを使用しますが、そのパラメーターについてはGrid Searchで最適化します。\n",
    "\n",
    "モデルが作成できたら、`model/conf_predict.pkl`に保存します。"
   ]
  },
  {
   "cell_type": "code",
   "execution_count": 13,
   "metadata": {
    "collapsed": false
   },
   "outputs": [
    {
     "name": "stdout",
     "output_type": "stream",
     "text": [
      "['pose>pitch min', 'smile avg']\n",
      "0.925 (+/-0.030) for {'C': 1, 'kernel': 'linear'}\n",
      "0.899 (+/-0.047) for {'C': 100, 'kernel': 'rbf', 'gamma': 0.001}\n",
      "0.883 (+/-0.061) for {'C': 10, 'kernel': 'linear'}\n",
      "0.861 (+/-0.063) for {'C': 100, 'kernel': 'linear'}\n",
      "0.724 (+/-0.003) for {'C': 1, 'kernel': 'rbf', 'gamma': 0.001}\n",
      "0.724 (+/-0.003) for {'C': 1, 'kernel': 'rbf', 'gamma': 0.0001}\n",
      "0.724 (+/-0.003) for {'C': 10, 'kernel': 'rbf', 'gamma': 0.001}\n",
      "0.724 (+/-0.003) for {'C': 10, 'kernel': 'rbf', 'gamma': 0.0001}\n",
      "0.724 (+/-0.003) for {'C': 100, 'kernel': 'rbf', 'gamma': 0.0001}\n",
      "             precision    recall  f1-score   support\n",
      "\n",
      "       good       0.71      0.83      0.77         6\n",
      "        bad       0.83      0.71      0.77         7\n",
      "\n",
      "avg / total       0.78      0.77      0.77        13\n",
      "\n"
     ]
    },
    {
     "data": {
      "image/png": "[encoded data removed]",
      "text/plain": [
       "<matplotlib.figure.Figure at 0xd96cd90>"
      ]
     },
     "metadata": {},
     "output_type": "display_data"
    },
    {
     "name": "stdout",
     "output_type": "stream",
     "text": [
      "Pipeline(steps=[('scaling', StandardScaler(copy=True, with_mean=True, with_std=True)), ('estimator', SVC(C=1, cache_size=200, class_weight=None, coef0=0.0, degree=3, gamma=0.0,\n",
      "  kernel='linear', max_iter=-1, probability=False, random_state=None,\n",
      "  shrinking=True, tol=0.001, verbose=False))])\n"
     ]
    }
   ],
   "source": [
    "import make_model as maker\n",
    "\n",
    "header_index = lambda hs: [i_h[0] for i_h in enumerate(header) if i_h[1] in hs]\n",
    "columns = header_index([\"smile avg\", \"pose>pitch min\"])\n",
    "\n",
    "print([header[c] for c in columns])\n",
    "\n",
    "model = maker.make_model(y, X, columns, save_model=True)\n",
    "print(model)\n"
   ]
  },
  {
   "cell_type": "code",
   "execution_count": null,
   "metadata": {
    "collapsed": true
   },
   "outputs": [],
   "source": []
  }
 ],
 "metadata": {
  "kernelspec": {
   "display_name": "Python 3",
   "language": "python",
   "name": "python3"
  },
  "language_info": {
   "codemirror_mode": {
    "name": "ipython",
    "version": 3
   },
   "file_extension": ".py",
   "mimetype": "text/x-python",
   "name": "python",
   "nbconvert_exporter": "python",
   "pygments_lexer": "ipython3",
   "version": "3.4.3"
  }
 },
 "nbformat": 4,
 "nbformat_minor": 0
}
